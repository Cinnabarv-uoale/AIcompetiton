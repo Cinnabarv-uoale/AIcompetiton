{
 "cells": [
  {
   "cell_type": "code",
   "execution_count": 9,
   "metadata": {},
   "outputs": [],
   "source": [
    "import numpy as np\n",
    "def extract_pose(vector) -> np.ndarray:\n",
    "    T, M, V, C = vector.shape\n",
    "    joint_data = [] # T M V C\n",
    "    for t in range(T): # for each frame\n",
    "        num_body = M\n",
    "        one_frame_data = np.zeros((num_body, 17, 2)) # M 17 2 \n",
    "        for m in range(num_body): # for each body\n",
    "            num_joints = V # the num joins, equal to 17\n",
    "            assert num_joints == 17\n",
    "            for v in range(num_joints): # for each joint\n",
    "                xy = np.array(vector[t,m,v,:2], dtype = np.float64)\n",
    "                vector[m, v] = xy\n",
    "        joint_data.append(one_frame_data)\n",
    "    joint_data = np.array(joint_data)  \n",
    "    return joint_data # T M 17 2 "
   ]
  },
  {
   "cell_type": "code",
   "execution_count": 10,
   "metadata": {},
   "outputs": [],
   "source": [
    "import numpy as np\n",
    "def solve_data(data):\n",
    "    # tgt_shape = (max_frame, max_body, 17, 2) # T M V C\n",
    "    data_2d = data.transpose(0, 2, 4, 3, 1)  # 变换为 (16432, 300, 2, 17, 3)'\n",
    "    data_2d = data_2d[:,:,:,:,:2]\n",
    "    # data_input = torch.from_numpy(data).float().cuda() # M T V C\n",
    "    data_3d = data.transpose(0, 4, 2, 3, 1)  # 变换为 (16432, 3, 300, 17, 3)'\n",
    "    return data_2d, data_3d\n"
   ]
  },
  {
   "cell_type": "code",
   "execution_count": 11,
   "metadata": {},
   "outputs": [],
   "source": [
    "# train_label = np.load(\"data/train_label.npy\")  \n",
    "# print(train_label.shape)\n",
    "# train_data = np.load(\"data/train_joint.npy\")\n",
    "# print(train_data.shape)\n",
    "\n",
    "# train_data_2d,train_data_3d = solve_data(train_data)\n",
    "# # x_transformed = x.transpose(0, 2, 4, 3, 1)  # 变换为 (16432, 300, 2, 17, 3)\n",
    "# # train_data = train_data.transpose(0, 2, 4, 3, 1)  # 变换为 (16432, 300, 2, 17, 3)'\n",
    "# # print(train_data.shape)\n",
    "# # print(train_data_trans.shape)\n",
    "\n",
    "\n",
    "# test_label = np.load(\"data/test_A_label.npy\")  \n",
    "# print(test_label.shape)\n",
    "# test_data = np.load(\"data/test_A_joint.npy\")\n",
    "# print(test_data.shape)\n",
    "\n",
    "# test_data_2d,test_data_3d = solve_data(test_data)\n",
    "# # test_data = test_data.transpose(0, 2, 4, 3, 1)  # 变换为 (16432, 300, 2, 17, 3)'\n",
    "\n",
    "# # print(test_data.shape)\n",
    "# # test_data_trans =test_data[:,:,:,:,:2]\n",
    "\n",
    "# # print(test_data_trans.shape)"
   ]
  },
  {
   "cell_type": "code",
   "execution_count": 12,
   "metadata": {},
   "outputs": [],
   "source": [
    "\n",
    "# # np.savez('./Model_inference/Mix_GCN/dataset/save_2d_pose/V1.npz', x_train = train_data_trans, y_train = train_label, \n",
    "# #              x_test = test_data_trans, y_test = test_label)\n",
    "# np.savez('./Model_inference/Mix_GCN/dataset/save_3d_pose/V1_train.npz', x_train = train_data_3d, y_train = train_label, \n",
    "#              x_test = test_data_3d, y_test = test_label)\n"
   ]
  },
  {
   "cell_type": "code",
   "execution_count": 13,
   "metadata": {},
   "outputs": [],
   "source": [
    "# N C T V M = (16432, 3, 300, 17, 2)\n",
    "\n",
    "# N M V C T =( 16432, 2, 17, 3, 300)\n",
    "\n",
    "# N T M V C = (16432, 300, 2, 17, 3)\n",
    "# 0 2 4 3 1\n",
    "\n",
    "# N  temp T = (16432, 102 , 300)\n",
    "\n",
    "\n",
    "# N T M V C = (16432, 300, 2, 17, 3)\n",
    "\n",
    "# x_transformed = x.transpose(0, 2, 4, 3, 1)  # 变换为 (16432, 300, 2, 17, 3)\n",
    "# # infer\n",
    "# pre_3d_pose = torch.zeros(2, 243, 17, 3) # M max_T(motion bert) V C"
   ]
  },
  {
   "cell_type": "code",
   "execution_count": 14,
   "metadata": {},
   "outputs": [],
   "source": [
    "# import numpy as np\n",
    "# data = np.load(\"data/test_joint_B.npy\")  \n",
    "# print(data.shape)\n",
    "# data_2d ,data_3d = solve_data(data) \n",
    "# label = np.ones(data_3d.shape[0])\n",
    "# print(label.shape)\n",
    "# np.savez('./Model_inference/Mix_GCN/dataset/save_3d_pose/V1.npz', x_test = data_3d, y_test = label)"
   ]
  },
  {
   "cell_type": "code",
   "execution_count": 15,
   "metadata": {},
   "outputs": [
    {
     "ename": "NameError",
     "evalue": "name 'data' is not defined",
     "output_type": "error",
     "traceback": [
      "\u001b[0;31m---------------------------------------------------------------------------\u001b[0m",
      "\u001b[0;31mNameError\u001b[0m                                 Traceback (most recent call last)",
      "Cell \u001b[0;32mIn[15], line 4\u001b[0m\n\u001b[1;32m      2\u001b[0m train_data \u001b[38;5;241m=\u001b[39m np\u001b[38;5;241m.\u001b[39mload(\u001b[38;5;124m\"\u001b[39m\u001b[38;5;124minit_data/data/train_bone.npy\u001b[39m\u001b[38;5;124m\"\u001b[39m)  \n\u001b[1;32m      3\u001b[0m label \u001b[38;5;241m=\u001b[39m np\u001b[38;5;241m.\u001b[39mload(\u001b[38;5;124m\"\u001b[39m\u001b[38;5;124minit_data/data/train_label.npy\u001b[39m\u001b[38;5;124m\"\u001b[39m)\n\u001b[0;32m----> 4\u001b[0m \u001b[38;5;28mprint\u001b[39m(\u001b[43mdata\u001b[49m\u001b[38;5;241m.\u001b[39mshape)\n\u001b[1;32m      5\u001b[0m train_data_2d ,train_data_3d \u001b[38;5;241m=\u001b[39m solve_data(data) \n\u001b[1;32m      6\u001b[0m label \u001b[38;5;241m=\u001b[39m np\u001b[38;5;241m.\u001b[39mones(data_3d\u001b[38;5;241m.\u001b[39mshape[\u001b[38;5;241m0\u001b[39m])\n",
      "\u001b[0;31mNameError\u001b[0m: name 'data' is not defined"
     ]
    }
   ],
   "source": [
    "# import numpy as np\n",
    "# train_data = np.load(\"init_data/data/train_bone.npy\")  \n",
    "# label = np.load(\"init_data/data/train_label.npy\")\n",
    "# print(data.shape)\n",
    "# train_data_2d ,train_data_3d = solve_data(data) \n",
    "# label = np.ones(data_3d.shape[0])\n",
    "# print(label.shape)\n",
    "# np.savez('./Model_inference/Mix_GCN/dataset/save_3d_pose/V1.npz', x_test = data_3d, y_test = label)\n"
   ]
  },
  {
   "cell_type": "code",
   "execution_count": 1,
   "metadata": {},
   "outputs": [
    {
     "name": "stdout",
     "output_type": "stream",
     "text": [
      "init_data/data/train_joint_augmented.npy\n",
      "init_data/data/train_label_augmented.npy\n",
      "init_data/data/test_A_joint.npy\n",
      "init_data/data/test_A_label.npy\n",
      "init_data/data/test_B_joint.npy\n",
      "(28753, 2, 300, 17, 3)\n",
      "(2000, 2, 300, 17, 3)\n",
      "(4599, 2, 300, 17, 3)\n",
      "processed_data/joint/train/V1.npz\n",
      "processed_data/joint/test/V1.npz\n"
     ]
    }
   ],
   "source": [
    "# 归一化\n",
    "import numpy as np\n",
    "def solve_data(data):\n",
    "    # tgt_shape = (max_frame, max_body, 17, 2) # T M V C\n",
    "    data_2d = data.transpose(0, 2, 4, 3, 1)  # 变换为 (16432, 300, 2, 17, 3)'\n",
    "    data_2d = data_2d[:,:,:,:,:2]\n",
    "    # data_input = torch.from_numpy(data).float().cuda() # M T V C\n",
    "    data_3d = data.transpose(0, 4, 2, 3, 1)  # 变换为 (16432, 3, 300, 17, 3)'\n",
    "    return data_2d, data_3d\n",
    "\n",
    "def total(filename,filepath,augment=False):\n",
    "    if augment:\n",
    "        train_data_path = filepath+\"train_\"+filename+\"_augmented.npy\"\n",
    "        train_label_path = filepath+\"train_label_augmented.npy\"\n",
    "    else:\n",
    "        train_data_path = filepath+\"train_\"+filename+\".npy\"\n",
    "        train_label_path = filepath+\"train_label.npy\"\n",
    "    test_A_data_path = filepath+\"test_A_\"+filename+\".npy\"\n",
    "    test_A_label_path = filepath+\"test_A_label.npy\"\n",
    "    test_B_data_path = filepath+\"test_B_\"+filename+\".npy\"\n",
    "\n",
    "    print(train_data_path)\n",
    "    print(train_label_path)\n",
    "    print(test_A_data_path)\n",
    "    print(test_A_label_path)\n",
    "    print(test_B_data_path)\n",
    "\n",
    "    train_data = np.load(train_data_path)\n",
    "    train_label = np.load(train_label_path)\n",
    "    test_A_data = np.load(test_A_data_path)\n",
    "    test_A_label = np.load(test_A_label_path)\n",
    "    test_B_data = np.load(test_B_data_path)\n",
    "    test_B_label = np.ones(test_B_data.shape[0])\n",
    "\n",
    "    _ , train_data_3d = solve_data(train_data)\n",
    "    _ , test_A_data_3d = solve_data(test_A_data)\n",
    "    _ , test_B_data_3d = solve_data(test_B_data)\n",
    "\n",
    "    print(train_data_3d.shape)\n",
    "    print(test_A_data_3d.shape)\n",
    "    print(test_B_data_3d.shape)\n",
    "\n",
    "    save_path_train = \"processed_data/\"+ filename + \"/\" +\"train/\" +\"V1.npz\"\n",
    "    save_path_test = \"processed_data/\"+ filename + \"/\" +\"test/\" +\"V1.npz\"\n",
    "\n",
    "    print(save_path_train)\n",
    "    print(save_path_test)\n",
    "\n",
    "    np.savez(save_path_train, x_train = train_data_3d, y_train = train_label,\n",
    "                                                            x_test = test_A_data_3d, y_test = test_A_label)\n",
    "\n",
    "    np.savez(save_path_test, x_test = test_B_data_3d, y_test = test_B_label)\n",
    "    \n",
    "# total('bone','init_data/data/')\n",
    "total('joint','init_data/data/')\n",
    "# total('bone_motion','init_data/data/')\n"
   ]
  },
  {
   "cell_type": "code",
   "execution_count": null,
   "metadata": {},
   "outputs": [],
   "source": []
  }
 ],
 "metadata": {
  "kernelspec": {
   "display_name": "mix_GCN",
   "language": "python",
   "name": "python3"
  },
  "language_info": {
   "codemirror_mode": {
    "name": "ipython",
    "version": 3
   },
   "file_extension": ".py",
   "mimetype": "text/x-python",
   "name": "python",
   "nbconvert_exporter": "python",
   "pygments_lexer": "ipython3",
   "version": "3.10.13"
  }
 },
 "nbformat": 4,
 "nbformat_minor": 4
}
