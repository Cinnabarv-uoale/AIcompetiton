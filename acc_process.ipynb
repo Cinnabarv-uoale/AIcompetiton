{
 "cells": [
  {
   "cell_type": "code",
   "execution_count": 11,
   "metadata": {},
   "outputs": [],
   "source": [
    "import pickle\n",
    "import numpy as np\n",
    "\n",
    "# file_path = \"/root/autodl-tmp/ICMEW2024-Track10/Model_inference/Mix_GCN/output/ctrgcn_V1_J_3D/epoch1_test_score.pkl\"\n",
    "file_path = \"/home/wangruize/AIC/ICMEW2024-Track10/Model_inference/Mix_GCN/output/ctrgcn_V1_B_3D/epoch1_test_score.pkl\"\n",
    "# file_path = \"/home/wangruize/AIC/ICMEW2024-Track10/Model_inference/Mix_GCN/output/ctrgcn_V1_J_3D/epoch1_test_score.pkl\"\n",
    "\n",
    "with open(file_path, 'rb') as file:\n",
    "    data = pickle.load(file)\n"
   ]
  },
  {
   "cell_type": "code",
   "execution_count": 12,
   "metadata": {},
   "outputs": [],
   "source": [
    "# print(data)\n",
    "  "
   ]
  },
  {
   "cell_type": "code",
   "execution_count": 13,
   "metadata": {},
   "outputs": [
    {
     "name": "stdout",
     "output_type": "stream",
     "text": [
      "4599\n",
      "(4599, 155)\n"
     ]
    }
   ],
   "source": [
    "\n",
    "\n",
    "# print(data)\n",
    "print(len(data))\n",
    "acc = []\n",
    "for key,value in data.items():\n",
    "    softmax_arr = np.exp(value) / np.sum(np.exp(value), axis=0)\n",
    "    # print(np.sum(softmax_arr))\n",
    "    acc.append(softmax_arr.tolist())\n",
    "pred = np.stack(acc)\n",
    "print(pred.shape)\n",
    "np.save(\"bone_3d_2_B.npy\",pred)"
   ]
  }
 ],
 "metadata": {
  "kernelspec": {
   "display_name": "mix_GCN",
   "language": "python",
   "name": "python3"
  },
  "language_info": {
   "codemirror_mode": {
    "name": "ipython",
    "version": 3
   },
   "file_extension": ".py",
   "mimetype": "text/x-python",
   "name": "python",
   "nbconvert_exporter": "python",
   "pygments_lexer": "ipython3",
   "version": "undefined.undefined.undefined"
  }
 },
 "nbformat": 4,
 "nbformat_minor": 2
}
