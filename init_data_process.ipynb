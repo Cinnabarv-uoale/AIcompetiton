{
 "cells": [
  {
   "cell_type": "code",
   "execution_count": 14,
   "metadata": {},
   "outputs": [
    {
     "name": "stdout",
     "output_type": "stream",
     "text": [
      "(16432, 3, 300, 17, 2)\n"
     ]
    }
   ],
   "source": [
    "import numpy as np\n",
    "from tqdm.notebook import tqdm\n",
    "# a = np.load(\"train_bone.npy\")\n",
    "a = np.load(\"train_joint.npy\")\n",
    "label = np.load(\"train_label.npy\")\n",
    "# c = np.load(\"train_bone_motion.npy\")\n",
    "print(a.shape)\n",
    "# print(b.shape)\n",
    "# print(c.shape)"
   ]
  },
  {
   "cell_type": "code",
   "execution_count": 15,
   "metadata": {},
   "outputs": [],
   "source": [
    "def get_random_samples(length, num_samples):\n",
    "    data = np.array([i for i in range(length)])  # 数组包含 1 到 100 的数字\n",
    "    random_samples = np.random.choice(data, size=num_samples, replace=False)\n",
    "    return random_samples\n",
    "\n",
    "temp_a = []\n",
    "label_a = []"
   ]
  },
  {
   "cell_type": "code",
   "execution_count": 16,
   "metadata": {},
   "outputs": [],
   "source": [
    "random_flipped_x = get_random_samples(a.shape[0], int(a.shape[0]*0.15))\n",
    "# 水平x翻转\n",
    "for i in random_flipped_x:\n",
    "    temp = a[i, :, :, :, :]\n",
    "    for t in range(a.shape[2]):\n",
    "        for v in range(a.shape[3]):\n",
    "            for m in range(a.shape[4]):\n",
    "                temp[0,t,v,m] = -temp[0,t,v,m]\n",
    "    temp_a.append(temp)\n",
    "    label_a.append(label[i])"
   ]
  },
  {
   "cell_type": "code",
   "execution_count": 17,
   "metadata": {},
   "outputs": [],
   "source": [
    "random_flipped_y = get_random_samples(a.shape[0], int(a.shape[0]*0.15))\n",
    "# 水平y翻转\n",
    "for i in random_flipped_y:\n",
    "    temp = a[i, :, :, :, :]\n",
    "    for t in range(a.shape[2]):\n",
    "        for v in range(a.shape[3]):\n",
    "            for m in range(a.shape[4]):\n",
    "                temp[1,t,v,m] = -temp[1,t,v,m]\n",
    "    temp_a.append(temp)\n",
    "    label_a.append(label[i])"
   ]
  },
  {
   "cell_type": "code",
   "execution_count": 18,
   "metadata": {},
   "outputs": [],
   "source": [
    "random_moved = get_random_samples(a.shape[0], int(a.shape[0]*0.15))\n",
    "# 随机移动\n",
    "for i in random_moved:\n",
    "    temp = a[i, :, :, :, :]\n",
    "    random_step = np.random.randint(-10, 10)\n",
    "    for t in range(a.shape[2]):\n",
    "        for v in range(a.shape[3]):\n",
    "            for m in range(a.shape[4]):\n",
    "                temp[0,t,v,m] = temp[0,t,v,m]+random_step\n",
    "    temp_a.append(temp)\n",
    "    label_a.append(label[i])"
   ]
  },
  {
   "cell_type": "code",
   "execution_count": 19,
   "metadata": {},
   "outputs": [
    {
     "name": "stdout",
     "output_type": "stream",
     "text": [
      "原始坐标：\n",
      "[1. 2. 3.]\n",
      "随机旋转后的坐标：\n",
      "[ 2.6305972  -0.37064273  2.63487805]\n"
     ]
    }
   ],
   "source": [
    "import numpy as np\n",
    "\n",
    "def random_rotation_matrix():\n",
    "    # 随机生成旋转角度\n",
    "    theta_x = np.random.uniform(0, 1/6 * np.pi)  # X轴旋转\n",
    "    theta_y = np.random.uniform(0, 1/6 * np.pi)  # Y轴旋转\n",
    "    theta_z = np.random.uniform(0, 2 * np.pi)  # Z轴旋转\n",
    "\n",
    "    # 计算旋转矩阵\n",
    "    R_x = np.array([[1, 0, 0],\n",
    "                    [0, np.cos(theta_x), -np.sin(theta_x)],\n",
    "                    [0, np.sin(theta_x), np.cos(theta_x)]])\n",
    "    \n",
    "    R_y = np.array([[np.cos(theta_y), 0, np.sin(theta_y)],\n",
    "                    [0, 1, 0],\n",
    "                    [-np.sin(theta_y), 0, np.cos(theta_y)]])\n",
    "    \n",
    "    R_z = np.array([[np.cos(theta_z), -np.sin(theta_z), 0],\n",
    "                    [np.sin(theta_z), np.cos(theta_z), 0],\n",
    "                    [0, 0, 1]])\n",
    "    \n",
    "    # 合成旋转矩阵 (先绕 Z，后绕 Y，最后绕 X)\n",
    "    R = R_z @ R_y @ R_x\n",
    "    return R\n",
    "\n",
    "def rotate_points(points,rotation_matrix):\n",
    "    # rotation_matrix = random_rotation_matrix()\n",
    "    # 对每个点应用旋转矩阵\n",
    "    rotated_points = points @ rotation_matrix.T  # 矩阵乘法\n",
    "    return rotated_points\n",
    "\n",
    "# 示例三维坐标点数组\n",
    "points = np.array(\n",
    "    [1.0, 2.0, 3.0]\n",
    ")\n",
    "\n",
    "# 进行随机旋转\n",
    "rotated_points = rotate_points(points,rotation_matrix=random_rotation_matrix())\n",
    "\n",
    "print(\"原始坐标：\")\n",
    "print(points)\n",
    "print(\"随机旋转后的坐标：\")\n",
    "print(rotated_points)"
   ]
  },
  {
   "cell_type": "code",
   "execution_count": 20,
   "metadata": {},
   "outputs": [],
   "source": [
    "random_rotate = get_random_samples(a.shape[0], int(a.shape[0]*0.3))\n",
    "# 随机旋转\n",
    "for i in random_rotate:\n",
    "    temp = a[i, :, :, :, :]\n",
    "    R = random_rotation_matrix()\n",
    "    for t in range(a.shape[2]):\n",
    "        for v in range(a.shape[3]):\n",
    "            for m in range(a.shape[4]):\n",
    "                temp[:,t,v,m] = rotate_points(temp[:,t,v,m],R)\n",
    "    temp_a.append(temp)\n",
    "    label_a.append(label[i])"
   ]
  },
  {
   "cell_type": "code",
   "execution_count": null,
   "metadata": {},
   "outputs": [],
   "source": []
  },
  {
   "cell_type": "code",
   "execution_count": 21,
   "metadata": {},
   "outputs": [
    {
     "name": "stdout",
     "output_type": "stream",
     "text": [
      "(12321, 3, 300, 17, 2)\n",
      "(16432, 3, 300, 17, 2)\n",
      "(28753, 3, 300, 17, 2)\n",
      "(28753,)\n"
     ]
    }
   ],
   "source": [
    "temp_a = np.stack(temp_a)\n",
    "label_b = np.stack(label_a)\n",
    "print(temp_a.shape)\n",
    "print(a.shape)\n",
    "# temp_b = [a,temp_a]\n",
    "temp_c = np.concatenate((a,temp_a))\n",
    "label_c = np.concatenate((label,label_b))\n",
    "print(temp_c.shape)\n",
    "print(label_c.shape)\n",
    "np.save(\"train_joint_augmented.npy\", temp_c)\n",
    "np.save(\"train_label_augmented.npy\", label_c)"
   ]
  },
  {
   "cell_type": "code",
   "execution_count": 22,
   "metadata": {},
   "outputs": [],
   "source": [
    "# maxn = np.ones(a.shape[1]) \n",
    "# for n in tqdm(range(0, a.shape[0])):\n",
    "#     for t in range(a.shape[2]):\n",
    "#         for v in range(a.shape[3]):\n",
    "#             for m in range(a.shape[4]):\n",
    "#                 maxn = np.maximum(maxn, np.abs(a[n, :, t, v, m]))\n",
    "#                 # print(a[n, :,t, v, m])\n",
    "#                 # next_continue = input(\"Continue? (y/n): \")\n",
    "# print(maxn)"
   ]
  }
 ],
 "metadata": {
  "kernelspec": {
   "display_name": "mix_GCN",
   "language": "python",
   "name": "python3"
  },
  "language_info": {
   "codemirror_mode": {
    "name": "ipython",
    "version": 3
   },
   "file_extension": ".py",
   "mimetype": "text/x-python",
   "name": "python",
   "nbconvert_exporter": "python",
   "pygments_lexer": "ipython3",
   "version": "3.10.13"
  }
 },
 "nbformat": 4,
 "nbformat_minor": 2
}
